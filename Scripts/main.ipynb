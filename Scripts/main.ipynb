version https://git-lfs.github.com/spec/v1
oid sha256:f992cf9d0aa5150c38350b9b02764fd9417c80b7d0c2d8b2eaf5d1067c933df5
size 3286
